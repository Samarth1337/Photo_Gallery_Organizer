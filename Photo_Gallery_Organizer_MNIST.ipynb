{
  "nbformat": 4,
  "nbformat_minor": 0,
  "metadata": {
    "colab": {
      "name": "Photo_Gallery_Organization.ipynb",
      "provenance": [],
      "collapsed_sections": [],
      "include_colab_link": true
    },
    "kernelspec": {
      "name": "python3",
      "display_name": "Python 3"
    },
    "accelerator": "GPU"
  },
  "cells": [
    {
      "cell_type": "markdown",
      "metadata": {
        "id": "view-in-github",
        "colab_type": "text"
      },
      "source": [
        "<a href=\"https://colab.research.google.com/github/Samarth1337/Photo_Gallery_Organizer/blob/main/Photo_Gallery_Organizer_MNIST.ipynb\" target=\"_parent\"><img src=\"https://colab.research.google.com/assets/colab-badge.svg\" alt=\"Open In Colab\"/></a>"
      ]
    },
    {
      "cell_type": "markdown",
      "metadata": {
        "id": "skoZI7kKS-4H"
      },
      "source": [
        "### 1. Use a trained Autoencoder model to extract features from the images\n",
        "> #### 1.1 Prepare data\n",
        "> #### 1.2 Create autoencoder model and train it\n",
        "> #### 1.3 Extract features from images using the trained encoder\n",
        "### 2. Cluster images on the basis of extracted features\n",
        "> #### 2.1 Prepare clustering algorithm\n",
        "> #### 2.2 Get clusters from the features\n",
        "> #### 2.3 Visualize results"
      ]
    },
    {
      "cell_type": "markdown",
      "metadata": {
        "id": "oAazgiR5VliD"
      },
      "source": [
        "### 1. Use a trained Autoencoder model to extract features from the images"
      ]
    },
    {
      "cell_type": "markdown",
      "metadata": {
        "id": "BVr5Rq4Iz1mj"
      },
      "source": [
        "#### 1.1 Prepare data"
      ]
    },
    {
      "cell_type": "code",
      "metadata": {
        "id": "MFDJvo2yCfLc"
      },
      "source": [
        "from google.colab import drive\n",
        "drive.mount('/content/drive')"
      ],
      "execution_count": null,
      "outputs": []
    },
    {
      "cell_type": "code",
      "metadata": {
        "id": "jzlInSkiEHwk",
        "colab": {
          "base_uri": "https://localhost:8080/",
          "height": 52
        },
        "outputId": "7c5309e7-da6a-4cfd-fb53-677134f0a835"
      },
      "source": [
        "!unzip /content/drive/My\\ Drive/MNIST.zip"
      ],
      "execution_count": null,
      "outputs": [
        {
          "output_type": "stream",
          "text": [
            "Archive:  /content/drive/My Drive/MNIST.zip\n",
            "replace MNIST/images/10017.png? [y]es, [n]o, [A]ll, [N]one, [r]ename: N\n"
          ],
          "name": "stdout"
        }
      ]
    },
    {
      "cell_type": "code",
      "metadata": {
        "id": "M-s9TqyIEyqm"
      },
      "source": [
        "%matplotlib inline\n",
        "%tensorflow_version 1.x\n",
        "\n",
        "import os\n",
        "import keras\n",
        "import numpy as np\n",
        "import pandas as pd\n",
        "import matplotlib.pyplot as plt\n",
        "\n",
        "from keras.models import Model\n",
        "from keras.layers import Dense, Input, Conv2D\n",
        "\n",
        "from skimage.io import imread\n",
        "\n",
        "from sklearn.cluster import KMeans\n",
        "from sklearn.metrics import normalized_mutual_info_score"
      ],
      "execution_count": null,
      "outputs": []
    },
    {
      "cell_type": "code",
      "metadata": {
        "id": "k0AGUvmEFQoL"
      },
      "source": [
        "seed = 128\n",
        "rng = np.random.RandomState(seed)"
      ],
      "execution_count": null,
      "outputs": []
    },
    {
      "cell_type": "code",
      "metadata": {
        "id": "bPZkl7c9FRO-"
      },
      "source": [
        "# define directory path\n",
        "data_dir = os.path.join(os.path.abspath('.'), 'MNIST')"
      ],
      "execution_count": null,
      "outputs": []
    },
    {
      "cell_type": "code",
      "metadata": {
        "id": "fC6u26GBFeBr",
        "colab": {
          "base_uri": "https://localhost:8080/",
          "height": 206
        },
        "outputId": "4f233283-dfa2-45c6-a0e1-12368c0d30d1"
      },
      "source": [
        "train = pd.read_csv(os.path.join(data_dir, 'train.csv'))\n",
        "\n",
        "train.head()"
      ],
      "execution_count": null,
      "outputs": [
        {
          "output_type": "execute_result",
          "data": {
            "text/html": [
              "<div>\n",
              "<style scoped>\n",
              "    .dataframe tbody tr th:only-of-type {\n",
              "        vertical-align: middle;\n",
              "    }\n",
              "\n",
              "    .dataframe tbody tr th {\n",
              "        vertical-align: top;\n",
              "    }\n",
              "\n",
              "    .dataframe thead th {\n",
              "        text-align: right;\n",
              "    }\n",
              "</style>\n",
              "<table border=\"1\" class=\"dataframe\">\n",
              "  <thead>\n",
              "    <tr style=\"text-align: right;\">\n",
              "      <th></th>\n",
              "      <th>filename</th>\n",
              "      <th>label</th>\n",
              "    </tr>\n",
              "  </thead>\n",
              "  <tbody>\n",
              "    <tr>\n",
              "      <th>0</th>\n",
              "      <td>0.png</td>\n",
              "      <td>4</td>\n",
              "    </tr>\n",
              "    <tr>\n",
              "      <th>1</th>\n",
              "      <td>1.png</td>\n",
              "      <td>9</td>\n",
              "    </tr>\n",
              "    <tr>\n",
              "      <th>2</th>\n",
              "      <td>2.png</td>\n",
              "      <td>1</td>\n",
              "    </tr>\n",
              "    <tr>\n",
              "      <th>3</th>\n",
              "      <td>3.png</td>\n",
              "      <td>7</td>\n",
              "    </tr>\n",
              "    <tr>\n",
              "      <th>4</th>\n",
              "      <td>4.png</td>\n",
              "      <td>3</td>\n",
              "    </tr>\n",
              "  </tbody>\n",
              "</table>\n",
              "</div>"
            ],
            "text/plain": [
              "  filename  label\n",
              "0    0.png      4\n",
              "1    1.png      9\n",
              "2    2.png      1\n",
              "3    3.png      7\n",
              "4    4.png      3"
            ]
          },
          "metadata": {
            "tags": []
          },
          "execution_count": 18
        }
      ]
    },
    {
      "cell_type": "code",
      "metadata": {
        "id": "3HJPtuj7FhFB",
        "colab": {
          "base_uri": "https://localhost:8080/",
          "height": 248
        },
        "outputId": "0e87f7c2-8d66-4bac-d10b-ab7c8283f898"
      },
      "source": [
        "# plot sample image\n",
        "img_name = rng.choice(train.filename)\n",
        "filepath = os.path.join(data_dir, 'images', img_name)\n",
        "\n",
        "img = imread(filepath, as_gray=True)\n",
        "\n",
        "plt.imshow(img, cmap='gray')\n",
        "plt.axis('off')\n",
        "plt.show()"
      ],
      "execution_count": null,
      "outputs": [
        {
          "output_type": "display_data",
          "data": {
            "image/png": "[encoded data removed]",
            "text/plain": [
              "<Figure size 432x288 with 1 Axes>"
            ]
          },
          "metadata": {
            "tags": []
          }
        }
      ]
    },
    {
      "cell_type": "code",
      "metadata": {
        "id": "YatSvrywFv88",
        "colab": {
          "base_uri": "https://localhost:8080/",
          "height": 34
        },
        "outputId": "d60605ba-64bb-4348-a3c8-07b3a6179474"
      },
      "source": [
        "img.shape"
      ],
      "execution_count": null,
      "outputs": [
        {
          "output_type": "execute_result",
          "data": {
            "text/plain": [
              "(28, 28)"
            ]
          },
          "metadata": {
            "tags": []
          },
          "execution_count": 20
        }
      ]
    },
    {
      "cell_type": "code",
      "metadata": {
        "id": "j--Cgne2FxdT"
      },
      "source": [
        "temp = []\n",
        "for img_name in train.filename:\n",
        "    image_path = os.path.join(data_dir, 'images', img_name)\n",
        "    img = imread(image_path, as_gray=True)\n",
        "    temp.append(img)\n",
        "\n",
        "train_x = np.stack(temp)\n",
        "train_x = train_x.reshape(-1, 784).astype('float32')"
      ],
      "execution_count": null,
      "outputs": []
    },
    {
      "cell_type": "code",
      "metadata": {
        "id": "xPHfxsnaY-zQ",
        "colab": {
          "base_uri": "https://localhost:8080/",
          "height": 34
        },
        "outputId": "c4b7558c-e12c-4679-99dc-f34b0e459509"
      },
      "source": [
        "train_x.shape"
      ],
      "execution_count": null,
      "outputs": [
        {
          "output_type": "execute_result",
          "data": {
            "text/plain": [
              "(49000, 784)"
            ]
          },
          "metadata": {
            "tags": []
          },
          "execution_count": 22
        }
      ]
    },
    {
      "cell_type": "code",
      "metadata": {
        "id": "r4CgE2N3RkOn",
        "colab": {
          "base_uri": "https://localhost:8080/",
          "height": 34
        },
        "outputId": "36edc046-65f6-4b2d-903a-9b54fe95b5a9"
      },
      "source": [
        "train_x.min(), train_x.max()"
      ],
      "execution_count": null,
      "outputs": [
        {
          "output_type": "execute_result",
          "data": {
            "text/plain": [
              "(0.0, 1.0)"
            ]
          },
          "metadata": {
            "tags": []
          },
          "execution_count": 23
        }
      ]
    },
    {
      "cell_type": "code",
      "metadata": {
        "id": "n8vVawYPGQgb"
      },
      "source": [
        "split_size = int(train_x.shape[0]*0.7)\n",
        "\n",
        "train_x, val_x = train_x[:split_size], train_x[split_size:]"
      ],
      "execution_count": null,
      "outputs": []
    },
    {
      "cell_type": "markdown",
      "metadata": {
        "id": "ydYQh9suV2ve"
      },
      "source": [
        "#### 1.2 Create autoencoder model and train it"
      ]
    },
    {
      "cell_type": "markdown",
      "metadata": {
        "id": "s2XsdNUnsNwR"
      },
      "source": [
        "![alt text](https://drive.google.com/uc?id=1duzhaXwCuvZf4gs03pJNcJPEYUxT2y_8)"
      ]
    },
    {
      "cell_type": "code",
      "metadata": {
        "id": "QvXxtG9mGblO",
        "colab": {
          "base_uri": "https://localhost:8080/",
          "height": 141
        },
        "outputId": "28832855-e034-4cdf-9b95-9d59e2e852a5"
      },
      "source": [
        "# define architecture of autoencoder\n",
        "\n",
        "## input placeholder\n",
        "input_img = Input(shape=(784, ))\n",
        "\n",
        "## \"encoded\" is the encoded representation of the input\n",
        "encoded = Dense(2000, activation='relu')(input_img)\n",
        "encoded = Dense(500, activation='relu')(encoded)\n",
        "encoded = Dense(100, activation='relu')(encoded)\n",
        "encoded = Dense(10, activation='linear')(encoded)\n",
        "\n",
        "## \"decoded\" is the lossy reconstruction of the input\n",
        "decoded = Dense(100, activation='relu')(encoded)\n",
        "decoded = Dense(500, activation='relu')(decoded)\n",
        "decoded = Dense(784, activation='sigmoid')(decoded)\n",
        "\n",
        "## this model maps an input to its reconstruction\n",
        "autoencoder = Model(input_img, decoded)\n",
        "\n",
        "## this model maps an input to its features\n",
        "encoder = Model(input_img, encoded)"
      ],
      "execution_count": null,
      "outputs": [
        {
          "output_type": "stream",
          "text": [
            "WARNING:tensorflow:From /usr/local/lib/python3.6/dist-packages/keras/backend/tensorflow_backend.py:66: The name tf.get_default_graph is deprecated. Please use tf.compat.v1.get_default_graph instead.\n",
            "\n",
            "WARNING:tensorflow:From /usr/local/lib/python3.6/dist-packages/keras/backend/tensorflow_backend.py:541: The name tf.placeholder is deprecated. Please use tf.compat.v1.placeholder instead.\n",
            "\n",
            "WARNING:tensorflow:From /usr/local/lib/python3.6/dist-packages/keras/backend/tensorflow_backend.py:4432: The name tf.random_uniform is deprecated. Please use tf.random.uniform instead.\n",
            "\n"
          ],
          "name": "stdout"
        }
      ]
    },
    {
      "cell_type": "code",
      "metadata": {
        "id": "PJ82hDD2G00e",
        "colab": {
          "base_uri": "https://localhost:8080/",
          "height": 434
        },
        "outputId": "f7674df6-18c1-4e44-d422-54fc8c9b95a0"
      },
      "source": [
        "autoencoder.summary()"
      ],
      "execution_count": null,
      "outputs": [
        {
          "output_type": "stream",
          "text": [
            "Model: \"model_1\"\n",
            "_________________________________________________________________\n",
            "Layer (type)                 Output Shape              Param #   \n",
            "=================================================================\n",
            "input_1 (InputLayer)         (None, 784)               0         \n",
            "_________________________________________________________________\n",
            "dense_1 (Dense)              (None, 2000)              1570000   \n",
            "_________________________________________________________________\n",
            "dense_2 (Dense)              (None, 500)               1000500   \n",
            "_________________________________________________________________\n",
            "dense_3 (Dense)              (None, 100)               50100     \n",
            "_________________________________________________________________\n",
            "dense_4 (Dense)              (None, 10)                1010      \n",
            "_________________________________________________________________\n",
            "dense_5 (Dense)              (None, 100)               1100      \n",
            "_________________________________________________________________\n",
            "dense_6 (Dense)              (None, 500)               50500     \n",
            "_________________________________________________________________\n",
            "dense_7 (Dense)              (None, 784)               392784    \n",
            "=================================================================\n",
            "Total params: 3,065,994\n",
            "Trainable params: 3,065,994\n",
            "Non-trainable params: 0\n",
            "_________________________________________________________________\n"
          ],
          "name": "stdout"
        }
      ]
    },
    {
      "cell_type": "code",
      "metadata": {
        "id": "eNS5s7SPZiNu",
        "colab": {
          "base_uri": "https://localhost:8080/",
          "height": 330
        },
        "outputId": "d5e4a82f-4ec1-42b9-fe56-3e09c04fec0b"
      },
      "source": [
        "encoder.summary()"
      ],
      "execution_count": null,
      "outputs": [
        {
          "output_type": "stream",
          "text": [
            "Model: \"model_2\"\n",
            "_________________________________________________________________\n",
            "Layer (type)                 Output Shape              Param #   \n",
            "=================================================================\n",
            "input_1 (InputLayer)         (None, 784)               0         \n",
            "_________________________________________________________________\n",
            "dense_1 (Dense)              (None, 2000)              1570000   \n",
            "_________________________________________________________________\n",
            "dense_2 (Dense)              (None, 500)               1000500   \n",
            "_________________________________________________________________\n",
            "dense_3 (Dense)              (None, 100)               50100     \n",
            "_________________________________________________________________\n",
            "dense_4 (Dense)              (None, 10)                1010      \n",
            "=================================================================\n",
            "Total params: 2,621,610\n",
            "Trainable params: 2,621,610\n",
            "Non-trainable params: 0\n",
            "_________________________________________________________________\n"
          ],
          "name": "stdout"
        }
      ]
    },
    {
      "cell_type": "code",
      "metadata": {
        "id": "YF2C9D8yG1MK",
        "colab": {
          "base_uri": "https://localhost:8080/",
          "height": 72
        },
        "outputId": "33ebb49b-11ff-444b-e4e2-c811c13677ad"
      },
      "source": [
        "autoencoder.compile(optimizer='adam', loss='mse')"
      ],
      "execution_count": null,
      "outputs": [
        {
          "output_type": "stream",
          "text": [
            "WARNING:tensorflow:From /usr/local/lib/python3.6/dist-packages/keras/optimizers.py:793: The name tf.train.Optimizer is deprecated. Please use tf.compat.v1.train.Optimizer instead.\n",
            "\n"
          ],
          "name": "stdout"
        }
      ]
    },
    {
      "cell_type": "code",
      "metadata": {
        "id": "0WxqQEX6G5hy",
        "colab": {
          "base_uri": "https://localhost:8080/",
          "height": 1000
        },
        "outputId": "29fe5d74-a388-40f3-b01b-fcb70405a0e2"
      },
      "source": [
        "train_history = autoencoder.fit(train_x, train_x, epochs=100, batch_size=256, validation_data=(val_x, val_x))"
      ],
      "execution_count": null,
      "outputs": [
        {
          "output_type": "stream",
          "text": [
            "WARNING:tensorflow:From /usr/local/lib/python3.6/dist-packages/keras/backend/tensorflow_backend.py:1033: The name tf.assign_add is deprecated. Please use tf.compat.v1.assign_add instead.\n",
            "\n",
            "WARNING:tensorflow:From /usr/local/lib/python3.6/dist-packages/keras/backend/tensorflow_backend.py:1020: The name tf.assign is deprecated. Please use tf.compat.v1.assign instead.\n",
            "\n",
            "WARNING:tensorflow:From /usr/local/lib/python3.6/dist-packages/keras/backend/tensorflow_backend.py:3005: The name tf.Session is deprecated. Please use tf.compat.v1.Session instead.\n",
            "\n",
            "Train on 34300 samples, validate on 14700 samples\n",
            "Epoch 1/100\n",
            "WARNING:tensorflow:From /usr/local/lib/python3.6/dist-packages/keras/backend/tensorflow_backend.py:190: The name tf.get_default_session is deprecated. Please use tf.compat.v1.get_default_session instead.\n",
            "\n",
            "WARNING:tensorflow:From /usr/local/lib/python3.6/dist-packages/keras/backend/tensorflow_backend.py:197: The name tf.ConfigProto is deprecated. Please use tf.compat.v1.ConfigProto instead.\n",
            "\n",
            "WARNING:tensorflow:From /usr/local/lib/python3.6/dist-packages/keras/backend/tensorflow_backend.py:207: The name tf.global_variables is deprecated. Please use tf.compat.v1.global_variables instead.\n",
            "\n",
            "WARNING:tensorflow:From /usr/local/lib/python3.6/dist-packages/keras/backend/tensorflow_backend.py:216: The name tf.is_variable_initialized is deprecated. Please use tf.compat.v1.is_variable_initialized instead.\n",
            "\n",
            "WARNING:tensorflow:From /usr/local/lib/python3.6/dist-packages/keras/backend/tensorflow_backend.py:223: The name tf.variables_initializer is deprecated. Please use tf.compat.v1.variables_initializer instead.\n",
            "\n",
            "34300/34300 [==============================] - 2s 59us/step - loss: 0.0607 - val_loss: 0.0336\n",
            "Epoch 2/100\n",
            "34300/34300 [==============================] - 1s 27us/step - loss: 0.0288 - val_loss: 0.0254\n",
            "Epoch 3/100\n",
            "34300/34300 [==============================] - 1s 27us/step - loss: 0.0231 - val_loss: 0.0214\n",
            "Epoch 4/100\n",
            "34300/34300 [==============================] - 1s 27us/step - loss: 0.0202 - val_loss: 0.0197\n",
            "Epoch 5/100\n",
            "34300/34300 [==============================] - 1s 26us/step - loss: 0.0187 - val_loss: 0.0185\n",
            "Epoch 6/100\n",
            "34300/34300 [==============================] - 1s 26us/step - loss: 0.0176 - val_loss: 0.0178\n",
            "Epoch 7/100\n",
            "34300/34300 [==============================] - 1s 26us/step - loss: 0.0168 - val_loss: 0.0171\n",
            "Epoch 8/100\n",
            "34300/34300 [==============================] - 1s 27us/step - loss: 0.0162 - val_loss: 0.0165\n",
            "Epoch 9/100\n",
            "34300/34300 [==============================] - 1s 26us/step - loss: 0.0157 - val_loss: 0.0162\n",
            "Epoch 10/100\n",
            "34300/34300 [==============================] - 1s 27us/step - loss: 0.0152 - val_loss: 0.0158\n",
            "Epoch 11/100\n",
            "34300/34300 [==============================] - 1s 25us/step - loss: 0.0149 - val_loss: 0.0156\n",
            "Epoch 12/100\n",
            "34300/34300 [==============================] - 1s 25us/step - loss: 0.0146 - val_loss: 0.0154\n",
            "Epoch 13/100\n",
            "34300/34300 [==============================] - 1s 27us/step - loss: 0.0143 - val_loss: 0.0152\n",
            "Epoch 14/100\n",
            "34300/34300 [==============================] - 1s 26us/step - loss: 0.0140 - val_loss: 0.0150\n",
            "Epoch 15/100\n",
            "34300/34300 [==============================] - 1s 26us/step - loss: 0.0138 - val_loss: 0.0148\n",
            "Epoch 16/100\n",
            "34300/34300 [==============================] - 1s 26us/step - loss: 0.0136 - val_loss: 0.0147\n",
            "Epoch 17/100\n",
            "34300/34300 [==============================] - 1s 26us/step - loss: 0.0134 - val_loss: 0.0145\n",
            "Epoch 18/100\n",
            "34300/34300 [==============================] - 1s 26us/step - loss: 0.0132 - val_loss: 0.0144\n",
            "Epoch 19/100\n",
            "34300/34300 [==============================] - 1s 26us/step - loss: 0.0130 - val_loss: 0.0143\n",
            "Epoch 20/100\n",
            "34300/34300 [==============================] - 1s 26us/step - loss: 0.0129 - val_loss: 0.0142\n",
            "Epoch 21/100\n",
            "34300/34300 [==============================] - 1s 25us/step - loss: 0.0127 - val_loss: 0.0141\n",
            "Epoch 22/100\n",
            "34300/34300 [==============================] - 1s 26us/step - loss: 0.0126 - val_loss: 0.0140\n",
            "Epoch 23/100\n",
            "34300/34300 [==============================] - 1s 26us/step - loss: 0.0124 - val_loss: 0.0140\n",
            "Epoch 24/100\n",
            "34300/34300 [==============================] - 1s 26us/step - loss: 0.0123 - val_loss: 0.0139\n",
            "Epoch 25/100\n",
            "34300/34300 [==============================] - 1s 26us/step - loss: 0.0122 - val_loss: 0.0139\n",
            "Epoch 26/100\n",
            "34300/34300 [==============================] - 1s 27us/step - loss: 0.0121 - val_loss: 0.0137\n",
            "Epoch 27/100\n",
            "34300/34300 [==============================] - 1s 27us/step - loss: 0.0120 - val_loss: 0.0137\n",
            "Epoch 28/100\n",
            "34300/34300 [==============================] - 1s 25us/step - loss: 0.0119 - val_loss: 0.0137\n",
            "Epoch 29/100\n",
            "34300/34300 [==============================] - 1s 26us/step - loss: 0.0118 - val_loss: 0.0136\n",
            "Epoch 30/100\n",
            "34300/34300 [==============================] - 1s 26us/step - loss: 0.0117 - val_loss: 0.0135\n",
            "Epoch 31/100\n",
            "34300/34300 [==============================] - 1s 26us/step - loss: 0.0116 - val_loss: 0.0135\n",
            "Epoch 32/100\n",
            "34300/34300 [==============================] - 1s 26us/step - loss: 0.0115 - val_loss: 0.0134\n",
            "Epoch 33/100\n",
            "34300/34300 [==============================] - 1s 26us/step - loss: 0.0114 - val_loss: 0.0134\n",
            "Epoch 34/100\n",
            "34300/34300 [==============================] - 1s 26us/step - loss: 0.0113 - val_loss: 0.0134\n",
            "Epoch 35/100\n",
            "34300/34300 [==============================] - 1s 27us/step - loss: 0.0113 - val_loss: 0.0133\n",
            "Epoch 36/100\n",
            "34300/34300 [==============================] - 1s 26us/step - loss: 0.0112 - val_loss: 0.0133\n",
            "Epoch 37/100\n",
            "34300/34300 [==============================] - 1s 26us/step - loss: 0.0111 - val_loss: 0.0133\n",
            "Epoch 38/100\n",
            "34300/34300 [==============================] - 1s 27us/step - loss: 0.0110 - val_loss: 0.0132\n",
            "Epoch 39/100\n",
            "34300/34300 [==============================] - 1s 26us/step - loss: 0.0110 - val_loss: 0.0132\n",
            "Epoch 40/100\n",
            "34300/34300 [==============================] - 1s 25us/step - loss: 0.0109 - val_loss: 0.0132\n",
            "Epoch 41/100\n",
            "34300/34300 [==============================] - 1s 25us/step - loss: 0.0108 - val_loss: 0.0132\n",
            "Epoch 42/100\n",
            "34300/34300 [==============================] - 1s 26us/step - loss: 0.0108 - val_loss: 0.0131\n",
            "Epoch 43/100\n",
            "34300/34300 [==============================] - 1s 26us/step - loss: 0.0107 - val_loss: 0.0131\n",
            "Epoch 44/100\n",
            "34300/34300 [==============================] - 1s 25us/step - loss: 0.0107 - val_loss: 0.0131\n",
            "Epoch 45/100\n",
            "34300/34300 [==============================] - 1s 26us/step - loss: 0.0106 - val_loss: 0.0131\n",
            "Epoch 46/100\n",
            "34300/34300 [==============================] - 1s 26us/step - loss: 0.0106 - val_loss: 0.0131\n",
            "Epoch 47/100\n",
            "34300/34300 [==============================] - 1s 26us/step - loss: 0.0105 - val_loss: 0.0130\n",
            "Epoch 48/100\n",
            "34300/34300 [==============================] - 1s 26us/step - loss: 0.0105 - val_loss: 0.0130\n",
            "Epoch 49/100\n",
            "34300/34300 [==============================] - 1s 26us/step - loss: 0.0104 - val_loss: 0.0130\n",
            "Epoch 50/100\n",
            "34300/34300 [==============================] - 1s 27us/step - loss: 0.0104 - val_loss: 0.0130\n",
            "Epoch 51/100\n",
            "34300/34300 [==============================] - 1s 26us/step - loss: 0.0103 - val_loss: 0.0130\n",
            "Epoch 52/100\n",
            "34300/34300 [==============================] - 1s 26us/step - loss: 0.0103 - val_loss: 0.0130\n",
            "Epoch 53/100\n",
            "34300/34300 [==============================] - 1s 26us/step - loss: 0.0102 - val_loss: 0.0129\n",
            "Epoch 54/100\n",
            "34300/34300 [==============================] - 1s 26us/step - loss: 0.0102 - val_loss: 0.0129\n",
            "Epoch 55/100\n",
            "34300/34300 [==============================] - 1s 26us/step - loss: 0.0102 - val_loss: 0.0130\n",
            "Epoch 56/100\n",
            "34300/34300 [==============================] - 1s 26us/step - loss: 0.0101 - val_loss: 0.0129\n",
            "Epoch 57/100\n",
            "34300/34300 [==============================] - 1s 26us/step - loss: 0.0101 - val_loss: 0.0129\n",
            "Epoch 58/100\n",
            "34300/34300 [==============================] - 1s 25us/step - loss: 0.0100 - val_loss: 0.0129\n",
            "Epoch 59/100\n",
            "34300/34300 [==============================] - 1s 25us/step - loss: 0.0100 - val_loss: 0.0129\n",
            "Epoch 60/100\n",
            "34300/34300 [==============================] - 1s 25us/step - loss: 0.0099 - val_loss: 0.0129\n",
            "Epoch 61/100\n",
            "34300/34300 [==============================] - 1s 26us/step - loss: 0.0099 - val_loss: 0.0129\n",
            "Epoch 62/100\n",
            "34300/34300 [==============================] - 1s 26us/step - loss: 0.0099 - val_loss: 0.0128\n",
            "Epoch 63/100\n",
            "34300/34300 [==============================] - 1s 26us/step - loss: 0.0098 - val_loss: 0.0128\n",
            "Epoch 64/100\n",
            "34300/34300 [==============================] - 1s 26us/step - loss: 0.0098 - val_loss: 0.0128\n",
            "Epoch 65/100\n",
            "34300/34300 [==============================] - 1s 26us/step - loss: 0.0097 - val_loss: 0.0128\n",
            "Epoch 66/100\n",
            "34300/34300 [==============================] - 1s 26us/step - loss: 0.0097 - val_loss: 0.0128\n",
            "Epoch 67/100\n",
            "34300/34300 [==============================] - 1s 25us/step - loss: 0.0097 - val_loss: 0.0129\n",
            "Epoch 68/100\n",
            "34300/34300 [==============================] - 1s 25us/step - loss: 0.0097 - val_loss: 0.0128\n",
            "Epoch 69/100\n",
            "34300/34300 [==============================] - 1s 26us/step - loss: 0.0096 - val_loss: 0.0128\n",
            "Epoch 70/100\n",
            "34300/34300 [==============================] - 1s 26us/step - loss: 0.0096 - val_loss: 0.0128\n",
            "Epoch 71/100\n",
            "34300/34300 [==============================] - 1s 25us/step - loss: 0.0096 - val_loss: 0.0128\n",
            "Epoch 72/100\n",
            "34300/34300 [==============================] - 1s 26us/step - loss: 0.0095 - val_loss: 0.0128\n",
            "Epoch 73/100\n",
            "34300/34300 [==============================] - 1s 26us/step - loss: 0.0095 - val_loss: 0.0129\n",
            "Epoch 74/100\n",
            "34300/34300 [==============================] - 1s 25us/step - loss: 0.0095 - val_loss: 0.0127\n",
            "Epoch 75/100\n",
            "34300/34300 [==============================] - 1s 26us/step - loss: 0.0094 - val_loss: 0.0128\n",
            "Epoch 76/100\n",
            "34300/34300 [==============================] - 1s 25us/step - loss: 0.0094 - val_loss: 0.0128\n",
            "Epoch 77/100\n",
            "34300/34300 [==============================] - 1s 26us/step - loss: 0.0094 - val_loss: 0.0128\n",
            "Epoch 78/100\n",
            "34300/34300 [==============================] - 1s 25us/step - loss: 0.0094 - val_loss: 0.0127\n",
            "Epoch 79/100\n",
            "34300/34300 [==============================] - 1s 25us/step - loss: 0.0093 - val_loss: 0.0127\n",
            "Epoch 80/100\n",
            "34300/34300 [==============================] - 1s 25us/step - loss: 0.0093 - val_loss: 0.0128\n",
            "Epoch 81/100\n",
            "34300/34300 [==============================] - 1s 26us/step - loss: 0.0093 - val_loss: 0.0128\n",
            "Epoch 82/100\n",
            "34300/34300 [==============================] - 1s 26us/step - loss: 0.0093 - val_loss: 0.0127\n",
            "Epoch 83/100\n",
            "34300/34300 [==============================] - 1s 26us/step - loss: 0.0092 - val_loss: 0.0128\n",
            "Epoch 84/100\n",
            "34300/34300 [==============================] - 1s 26us/step - loss: 0.0092 - val_loss: 0.0127\n",
            "Epoch 85/100\n",
            "34300/34300 [==============================] - 1s 26us/step - loss: 0.0092 - val_loss: 0.0127\n",
            "Epoch 86/100\n",
            "34300/34300 [==============================] - 1s 26us/step - loss: 0.0092 - val_loss: 0.0127\n",
            "Epoch 87/100\n",
            "34300/34300 [==============================] - 1s 26us/step - loss: 0.0091 - val_loss: 0.0127\n",
            "Epoch 88/100\n",
            "34300/34300 [==============================] - 1s 25us/step - loss: 0.0091 - val_loss: 0.0128\n",
            "Epoch 89/100\n",
            "34300/34300 [==============================] - 1s 25us/step - loss: 0.0091 - val_loss: 0.0127\n",
            "Epoch 90/100\n",
            "34300/34300 [==============================] - 1s 25us/step - loss: 0.0091 - val_loss: 0.0127\n",
            "Epoch 91/100\n",
            "34300/34300 [==============================] - 1s 25us/step - loss: 0.0091 - val_loss: 0.0128\n",
            "Epoch 92/100\n",
            "34300/34300 [==============================] - 1s 25us/step - loss: 0.0090 - val_loss: 0.0128\n",
            "Epoch 93/100\n",
            "34300/34300 [==============================] - 1s 25us/step - loss: 0.0090 - val_loss: 0.0127\n",
            "Epoch 94/100\n",
            "34300/34300 [==============================] - 1s 24us/step - loss: 0.0090 - val_loss: 0.0127\n",
            "Epoch 95/100\n",
            "34300/34300 [==============================] - 1s 25us/step - loss: 0.0090 - val_loss: 0.0127\n",
            "Epoch 96/100\n",
            "34300/34300 [==============================] - 1s 26us/step - loss: 0.0089 - val_loss: 0.0127\n",
            "Epoch 97/100\n",
            "34300/34300 [==============================] - 1s 26us/step - loss: 0.0089 - val_loss: 0.0127\n",
            "Epoch 98/100\n",
            "34300/34300 [==============================] - 1s 26us/step - loss: 0.0089 - val_loss: 0.0127\n",
            "Epoch 99/100\n",
            "34300/34300 [==============================] - 1s 26us/step - loss: 0.0089 - val_loss: 0.0128\n",
            "Epoch 100/100\n",
            "34300/34300 [==============================] - 1s 25us/step - loss: 0.0089 - val_loss: 0.0128\n"
          ],
          "name": "stdout"
        }
      ]
    },
    {
      "cell_type": "code",
      "metadata": {
        "id": "ibPb5byR0GKq",
        "colab": {
          "base_uri": "https://localhost:8080/",
          "height": 282
        },
        "outputId": "38a1362a-4466-4da7-fb99-9d3cc29e32a8"
      },
      "source": [
        "temp = autoencoder.predict(train_x)\n",
        "plt.imshow(temp[0].reshape((28, 28)), cmap='gray')"
      ],
      "execution_count": null,
      "outputs": [
        {
          "output_type": "execute_result",
          "data": {
            "text/plain": [
              "<matplotlib.image.AxesImage at 0x7f390f926d30>"
            ]
          },
          "metadata": {
            "tags": []
          },
          "execution_count": 30
        },
        {
          "output_type": "display_data",
          "data": {
            "image/png": "[encoded data removed]",
            "text/plain": [
              "<Figure size 432x288 with 1 Axes>"
            ]
          },
          "metadata": {
            "tags": []
          }
        }
      ]
    },
    {
      "cell_type": "code",
      "metadata": {
        "id": "OHt3tL1Warnk",
        "colab": {
          "base_uri": "https://localhost:8080/",
          "height": 69
        },
        "outputId": "2f2a1da5-a48a-4768-a35d-b24cc5cd69a2"
      },
      "source": [
        "temp = encoder.predict(train_x)\n",
        "temp[0]"
      ],
      "execution_count": null,
      "outputs": [
        {
          "output_type": "execute_result",
          "data": {
            "text/plain": [
              "array([ 16.117693 ,  -7.966588 , -18.996788 ,  -5.651637 , -20.761293 ,\n",
              "        -2.2775679,  -1.9109703,  -6.4678216, -14.582864 ,   6.706299 ],\n",
              "      dtype=float32)"
            ]
          },
          "metadata": {
            "tags": []
          },
          "execution_count": 31
        }
      ]
    },
    {
      "cell_type": "markdown",
      "metadata": {
        "id": "k4hteIOcaQqx"
      },
      "source": [
        "#### 1.3 Extract features from images using the trained encoder"
      ]
    },
    {
      "cell_type": "code",
      "metadata": {
        "id": "ebsi6Mef0OoW"
      },
      "source": [
        "# get features from encoder\n",
        "pred_auto_train = encoder.predict(train_x)\n",
        "pred_auto = encoder.predict(val_x)\n"
      ],
      "execution_count": null,
      "outputs": []
    },
    {
      "cell_type": "markdown",
      "metadata": {
        "id": "BSZoJaO30h3K"
      },
      "source": [
        "### 2. Cluster images on the basis of extracted features"
      ]
    },
    {
      "cell_type": "markdown",
      "metadata": {
        "id": "9Z-Qynct0nYY"
      },
      "source": [
        "#### 2.1 Prepare clustering algorithm"
      ]
    },
    {
      "cell_type": "code",
      "metadata": {
        "id": "0xqqi6NGG90r"
      },
      "source": [
        "# train a kmeans clustering model to categorize the features of images\n",
        "\n",
        "## define kmeans model\n",
        "km = KMeans(n_jobs=-1, n_clusters=10)"
      ],
      "execution_count": null,
      "outputs": []
    },
    {
      "cell_type": "markdown",
      "metadata": {
        "id": "xydpJAdh04Fw"
      },
      "source": [
        "#### 2.2 Get clusters from the features\n"
      ]
    },
    {
      "cell_type": "code",
      "metadata": {
        "id": "ltnRWgc803MP"
      },
      "source": [
        "## train kmeans model on features extracted from training data\n",
        "km.fit(pred_auto_train)\n",
        "\n",
        "## get predictions from kmeans model on features extracted from validation data\n",
        "pred = km.predict(pred_auto)"
      ],
      "execution_count": null,
      "outputs": []
    },
    {
      "cell_type": "markdown",
      "metadata": {
        "id": "Mrh5hHTEctAf"
      },
      "source": [
        "#### 2.3 Visualize results"
      ]
    },
    {
      "cell_type": "code",
      "metadata": {
        "id": "I5k2pVwZHIg1",
        "colab": {
          "base_uri": "https://localhost:8080/",
          "height": 282
        },
        "outputId": "b666e2fb-55eb-43ca-8d1e-eb7551ff4121"
      },
      "source": [
        "# check the output of kmeans model\n",
        "index = rng.choice(range(len(val_x)))\n",
        "\n",
        "print(\"This image belongs to Cluster \" + str(pred[index]))\n",
        "plt.imshow(val_x[index].reshape((28, 28)), cmap='gray')\n",
        "plt.show()"
      ],
      "execution_count": null,
      "outputs": [
        {
          "output_type": "stream",
          "text": [
            "This image belongs to Cluster 2\n"
          ],
          "name": "stdout"
        },
        {
          "output_type": "display_data",
          "data": {
            "image/png": "[encoded data removed]",
            "text/plain": [
              "<Figure size 432x288 with 1 Axes>"
            ]
          },
          "metadata": {
            "tags": []
          }
        }
      ]
    },
    {
      "cell_type": "code",
      "metadata": {
        "id": "kgU9nQWMyGbM",
        "colab": {
          "base_uri": "https://localhost:8080/",
          "height": 206
        },
        "outputId": "1e8f1395-646a-454c-eae3-9acc946dda20"
      },
      "source": [
        "# get actual classes\n",
        "train_y = train.label.values\n",
        "train_y, val_y = train_y[:split_size], train_y[split_size:]\n",
        "\n",
        "# compare clusters with actual classes\n",
        "temp = pd.DataFrame({\"val_y\":val_y, \"cluster_name\":pred})\n",
        "temp[temp.cluster_name == 1].head()"
      ],
      "execution_count": null,
      "outputs": [
        {
          "output_type": "execute_result",
          "data": {
            "text/html": [
              "<div>\n",
              "<style scoped>\n",
              "    .dataframe tbody tr th:only-of-type {\n",
              "        vertical-align: middle;\n",
              "    }\n",
              "\n",
              "    .dataframe tbody tr th {\n",
              "        vertical-align: top;\n",
              "    }\n",
              "\n",
              "    .dataframe thead th {\n",
              "        text-align: right;\n",
              "    }\n",
              "</style>\n",
              "<table border=\"1\" class=\"dataframe\">\n",
              "  <thead>\n",
              "    <tr style=\"text-align: right;\">\n",
              "      <th></th>\n",
              "      <th>val_y</th>\n",
              "      <th>cluster_name</th>\n",
              "    </tr>\n",
              "  </thead>\n",
              "  <tbody>\n",
              "    <tr>\n",
              "      <th>15</th>\n",
              "      <td>7</td>\n",
              "      <td>1</td>\n",
              "    </tr>\n",
              "    <tr>\n",
              "      <th>20</th>\n",
              "      <td>9</td>\n",
              "      <td>1</td>\n",
              "    </tr>\n",
              "    <tr>\n",
              "      <th>24</th>\n",
              "      <td>7</td>\n",
              "      <td>1</td>\n",
              "    </tr>\n",
              "    <tr>\n",
              "      <th>49</th>\n",
              "      <td>7</td>\n",
              "      <td>1</td>\n",
              "    </tr>\n",
              "    <tr>\n",
              "      <th>50</th>\n",
              "      <td>7</td>\n",
              "      <td>1</td>\n",
              "    </tr>\n",
              "  </tbody>\n",
              "</table>\n",
              "</div>"
            ],
            "text/plain": [
              "    val_y  cluster_name\n",
              "15      7             1\n",
              "20      9             1\n",
              "24      7             1\n",
              "49      7             1\n",
              "50      7             1"
            ]
          },
          "metadata": {
            "tags": []
          },
          "execution_count": 41
        }
      ]
    },
    {
      "cell_type": "code",
      "metadata": {
        "id": "uuedBp9py2qo",
        "colab": {
          "base_uri": "https://localhost:8080/",
          "height": 541
        },
        "outputId": "393087b8-67e6-404d-93db-c0085f3d9a06"
      },
      "source": [
        "# visualize multiple images of cluster\n",
        "## create plot\n",
        "fig,axes = plt.subplots(nrows=5,ncols=5,figsize=(10,10))\n",
        "\n",
        "\n",
        "## set row name on the basis of clusters\n",
        "rows = ['Images belong to Cluster {}'.format(row) for row in ['1', '2', '3', '4', '5']]\n",
        "for ax, row in zip(axes[:,0], rows):\n",
        "    ax.annotate(row, xy=(0, 0.5), xytext=(-ax.yaxis.labelpad - 5, 0),\n",
        "                xycoords=ax.yaxis.label, textcoords='offset points',\n",
        "                size='large', ha='right', va='center')\n",
        "\n",
        "## set images in subplots\n",
        "for i in range(5):\n",
        "  temp2 = temp[temp.cluster_name == i].head() \n",
        "  for j, img in enumerate(val_x[temp2.index.values]):\n",
        "    img = img.reshape((28, 28))\n",
        "    axes[i][j].imshow(img, cmap='gray')\n",
        "\n",
        "## adjust plot with respect to the column title\n",
        "fig.tight_layout()\n",
        "fig.subplots_adjust(left=0.15, top=0.95)\n",
        "\n",
        "## show plot\n",
        "plt.show()"
      ],
      "execution_count": null,
      "outputs": [
        {
          "output_type": "display_data",
          "data": {
            "image/png": "[encoded data removed]",
            "text/plain": [
              "<Figure size 720x720 with 25 Axes>"
            ]
          },
          "metadata": {
            "tags": []
          }
        }
      ]
    },
    {
      "cell_type": "code",
      "metadata": {
        "id": "y76diUyNQn8c",
        "colab": {
          "base_uri": "https://localhost:8080/",
          "height": 34
        },
        "outputId": "4930090f-2a5b-4f92-a789-bf85ce548a62"
      },
      "source": [
        "# print score of overall model\n",
        "normalized_mutual_info_score(pred, val_y)"
      ],
      "execution_count": null,
      "outputs": [
        {
          "output_type": "execute_result",
          "data": {
            "text/plain": [
              "0.6496137182083237"
            ]
          },
          "metadata": {
            "tags": []
          },
          "execution_count": 26
        }
      ]
    }
  ]
}